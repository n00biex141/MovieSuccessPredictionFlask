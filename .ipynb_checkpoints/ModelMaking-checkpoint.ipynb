{
 "cells": [
  {
   "cell_type": "code",
   "execution_count": 101,
   "id": "042fc964",
   "metadata": {},
   "outputs": [],
   "source": [
    "import numpy as np\n",
    "import pandas as pd"
   ]
  },
  {
   "cell_type": "code",
   "execution_count": 102,
   "id": "f327359c",
   "metadata": {},
   "outputs": [],
   "source": [
    "data = pd.read_csv(\"dataset_refined_new.csv\")"
   ]
  },
  {
   "cell_type": "code",
   "execution_count": 103,
   "id": "fe0b5c42",
   "metadata": {},
   "outputs": [
    {
     "data": {
      "text/html": [
       "<div>\n",
       "<style scoped>\n",
       "    .dataframe tbody tr th:only-of-type {\n",
       "        vertical-align: middle;\n",
       "    }\n",
       "\n",
       "    .dataframe tbody tr th {\n",
       "        vertical-align: top;\n",
       "    }\n",
       "\n",
       "    .dataframe thead th {\n",
       "        text-align: right;\n",
       "    }\n",
       "</style>\n",
       "<table border=\"1\" class=\"dataframe\">\n",
       "  <thead>\n",
       "    <tr style=\"text-align: right;\">\n",
       "      <th></th>\n",
       "      <th>Directors</th>\n",
       "      <th>Language</th>\n",
       "      <th>Year of Release</th>\n",
       "      <th>Action</th>\n",
       "      <th>Thriller</th>\n",
       "      <th>SciFi</th>\n",
       "      <th>Biography</th>\n",
       "      <th>Drama</th>\n",
       "      <th>History</th>\n",
       "      <th>Romance</th>\n",
       "      <th>...</th>\n",
       "      <th>Crime</th>\n",
       "      <th>Adventure</th>\n",
       "      <th>Horror</th>\n",
       "      <th>Sport</th>\n",
       "      <th>Fantacy</th>\n",
       "      <th>War</th>\n",
       "      <th>Ratings</th>\n",
       "      <th>Votes</th>\n",
       "      <th>Worldwide Gross in Crores</th>\n",
       "      <th>Hit or Flop</th>\n",
       "    </tr>\n",
       "  </thead>\n",
       "  <tbody>\n",
       "    <tr>\n",
       "      <th>0</th>\n",
       "      <td>S.S. Rajamouli</td>\n",
       "      <td>Telugu</td>\n",
       "      <td>2017</td>\n",
       "      <td>1</td>\n",
       "      <td>0</td>\n",
       "      <td>0</td>\n",
       "      <td>0</td>\n",
       "      <td>1</td>\n",
       "      <td>0</td>\n",
       "      <td>0</td>\n",
       "      <td>...</td>\n",
       "      <td>0</td>\n",
       "      <td>0</td>\n",
       "      <td>0</td>\n",
       "      <td>0</td>\n",
       "      <td>0</td>\n",
       "      <td>0</td>\n",
       "      <td>8.2</td>\n",
       "      <td>105531</td>\n",
       "      <td>1749.0</td>\n",
       "      <td>1</td>\n",
       "    </tr>\n",
       "    <tr>\n",
       "      <th>1</th>\n",
       "      <td>Advait Chandan</td>\n",
       "      <td>Hindi</td>\n",
       "      <td>2017</td>\n",
       "      <td>0</td>\n",
       "      <td>0</td>\n",
       "      <td>0</td>\n",
       "      <td>0</td>\n",
       "      <td>1</td>\n",
       "      <td>0</td>\n",
       "      <td>0</td>\n",
       "      <td>...</td>\n",
       "      <td>0</td>\n",
       "      <td>0</td>\n",
       "      <td>0</td>\n",
       "      <td>0</td>\n",
       "      <td>0</td>\n",
       "      <td>0</td>\n",
       "      <td>7.8</td>\n",
       "      <td>27522</td>\n",
       "      <td>830.8</td>\n",
       "      <td>1</td>\n",
       "    </tr>\n",
       "    <tr>\n",
       "      <th>2</th>\n",
       "      <td>Ali Abbas Zafar</td>\n",
       "      <td>Hindi</td>\n",
       "      <td>2017</td>\n",
       "      <td>1</td>\n",
       "      <td>1</td>\n",
       "      <td>0</td>\n",
       "      <td>0</td>\n",
       "      <td>0</td>\n",
       "      <td>0</td>\n",
       "      <td>0</td>\n",
       "      <td>...</td>\n",
       "      <td>0</td>\n",
       "      <td>1</td>\n",
       "      <td>0</td>\n",
       "      <td>0</td>\n",
       "      <td>0</td>\n",
       "      <td>0</td>\n",
       "      <td>5.9</td>\n",
       "      <td>30693</td>\n",
       "      <td>562.5</td>\n",
       "      <td>1</td>\n",
       "    </tr>\n",
       "    <tr>\n",
       "      <th>3</th>\n",
       "      <td>Rohit Shetty</td>\n",
       "      <td>Hindi</td>\n",
       "      <td>2017</td>\n",
       "      <td>1</td>\n",
       "      <td>0</td>\n",
       "      <td>0</td>\n",
       "      <td>0</td>\n",
       "      <td>0</td>\n",
       "      <td>0</td>\n",
       "      <td>0</td>\n",
       "      <td>...</td>\n",
       "      <td>0</td>\n",
       "      <td>0</td>\n",
       "      <td>0</td>\n",
       "      <td>0</td>\n",
       "      <td>0</td>\n",
       "      <td>0</td>\n",
       "      <td>4.9</td>\n",
       "      <td>9917</td>\n",
       "      <td>310.3</td>\n",
       "      <td>1</td>\n",
       "    </tr>\n",
       "    <tr>\n",
       "      <th>4</th>\n",
       "      <td>Saket Chaudhary</td>\n",
       "      <td>Hindi</td>\n",
       "      <td>2017</td>\n",
       "      <td>0</td>\n",
       "      <td>0</td>\n",
       "      <td>0</td>\n",
       "      <td>0</td>\n",
       "      <td>1</td>\n",
       "      <td>0</td>\n",
       "      <td>0</td>\n",
       "      <td>...</td>\n",
       "      <td>0</td>\n",
       "      <td>0</td>\n",
       "      <td>0</td>\n",
       "      <td>0</td>\n",
       "      <td>0</td>\n",
       "      <td>0</td>\n",
       "      <td>7.8</td>\n",
       "      <td>30211</td>\n",
       "      <td>304.0</td>\n",
       "      <td>1</td>\n",
       "    </tr>\n",
       "    <tr>\n",
       "      <th>...</th>\n",
       "      <td>...</td>\n",
       "      <td>...</td>\n",
       "      <td>...</td>\n",
       "      <td>...</td>\n",
       "      <td>...</td>\n",
       "      <td>...</td>\n",
       "      <td>...</td>\n",
       "      <td>...</td>\n",
       "      <td>...</td>\n",
       "      <td>...</td>\n",
       "      <td>...</td>\n",
       "      <td>...</td>\n",
       "      <td>...</td>\n",
       "      <td>...</td>\n",
       "      <td>...</td>\n",
       "      <td>...</td>\n",
       "      <td>...</td>\n",
       "      <td>...</td>\n",
       "      <td>...</td>\n",
       "      <td>...</td>\n",
       "      <td>...</td>\n",
       "    </tr>\n",
       "    <tr>\n",
       "      <th>388</th>\n",
       "      <td>Rohit Dhawan</td>\n",
       "      <td>Hindi</td>\n",
       "      <td>2023</td>\n",
       "      <td>1</td>\n",
       "      <td>0</td>\n",
       "      <td>0</td>\n",
       "      <td>0</td>\n",
       "      <td>1</td>\n",
       "      <td>0</td>\n",
       "      <td>0</td>\n",
       "      <td>...</td>\n",
       "      <td>0</td>\n",
       "      <td>0</td>\n",
       "      <td>0</td>\n",
       "      <td>0</td>\n",
       "      <td>0</td>\n",
       "      <td>0</td>\n",
       "      <td>5.3</td>\n",
       "      <td>27155</td>\n",
       "      <td>51.5</td>\n",
       "      <td>0</td>\n",
       "    </tr>\n",
       "    <tr>\n",
       "      <th>389</th>\n",
       "      <td>V. Harikrishna</td>\n",
       "      <td>Kannada</td>\n",
       "      <td>2023</td>\n",
       "      <td>1</td>\n",
       "      <td>0</td>\n",
       "      <td>0</td>\n",
       "      <td>0</td>\n",
       "      <td>1</td>\n",
       "      <td>0</td>\n",
       "      <td>0</td>\n",
       "      <td>...</td>\n",
       "      <td>0</td>\n",
       "      <td>0</td>\n",
       "      <td>0</td>\n",
       "      <td>0</td>\n",
       "      <td>0</td>\n",
       "      <td>0</td>\n",
       "      <td>7.4</td>\n",
       "      <td>10092</td>\n",
       "      <td>45.0</td>\n",
       "      <td>1</td>\n",
       "    </tr>\n",
       "    <tr>\n",
       "      <th>390</th>\n",
       "      <td>R. Chandru</td>\n",
       "      <td>Kannada</td>\n",
       "      <td>2023</td>\n",
       "      <td>1</td>\n",
       "      <td>0</td>\n",
       "      <td>0</td>\n",
       "      <td>0</td>\n",
       "      <td>1</td>\n",
       "      <td>0</td>\n",
       "      <td>0</td>\n",
       "      <td>...</td>\n",
       "      <td>1</td>\n",
       "      <td>0</td>\n",
       "      <td>0</td>\n",
       "      <td>0</td>\n",
       "      <td>0</td>\n",
       "      <td>0</td>\n",
       "      <td>7.7</td>\n",
       "      <td>13421</td>\n",
       "      <td>41.9</td>\n",
       "      <td>0</td>\n",
       "    </tr>\n",
       "    <tr>\n",
       "      <th>391</th>\n",
       "      <td>Venu Yeldandi</td>\n",
       "      <td>Telugu</td>\n",
       "      <td>2023</td>\n",
       "      <td>0</td>\n",
       "      <td>0</td>\n",
       "      <td>0</td>\n",
       "      <td>0</td>\n",
       "      <td>1</td>\n",
       "      <td>0</td>\n",
       "      <td>0</td>\n",
       "      <td>...</td>\n",
       "      <td>0</td>\n",
       "      <td>0</td>\n",
       "      <td>0</td>\n",
       "      <td>0</td>\n",
       "      <td>0</td>\n",
       "      <td>0</td>\n",
       "      <td>8.3</td>\n",
       "      <td>1627</td>\n",
       "      <td>25.5</td>\n",
       "      <td>1</td>\n",
       "    </tr>\n",
       "    <tr>\n",
       "      <th>392</th>\n",
       "      <td>Vishwak Sen</td>\n",
       "      <td>Telugu</td>\n",
       "      <td>2023</td>\n",
       "      <td>1</td>\n",
       "      <td>0</td>\n",
       "      <td>0</td>\n",
       "      <td>0</td>\n",
       "      <td>1</td>\n",
       "      <td>0</td>\n",
       "      <td>0</td>\n",
       "      <td>...</td>\n",
       "      <td>0</td>\n",
       "      <td>0</td>\n",
       "      <td>0</td>\n",
       "      <td>0</td>\n",
       "      <td>0</td>\n",
       "      <td>0</td>\n",
       "      <td>7.0</td>\n",
       "      <td>876</td>\n",
       "      <td>21.5</td>\n",
       "      <td>1</td>\n",
       "    </tr>\n",
       "  </tbody>\n",
       "</table>\n",
       "<p>393 rows × 21 columns</p>\n",
       "</div>"
      ],
      "text/plain": [
       "           Directors Language  Year of Release  Action  Thriller  SciFi  \\\n",
       "0     S.S. Rajamouli   Telugu             2017       1         0      0   \n",
       "1     Advait Chandan    Hindi             2017       0         0      0   \n",
       "2    Ali Abbas Zafar    Hindi             2017       1         1      0   \n",
       "3       Rohit Shetty    Hindi             2017       1         0      0   \n",
       "4    Saket Chaudhary    Hindi             2017       0         0      0   \n",
       "..               ...      ...              ...     ...       ...    ...   \n",
       "388     Rohit Dhawan    Hindi             2023       1         0      0   \n",
       "389   V. Harikrishna  Kannada             2023       1         0      0   \n",
       "390       R. Chandru  Kannada             2023       1         0      0   \n",
       "391    Venu Yeldandi   Telugu             2023       0         0      0   \n",
       "392      Vishwak Sen   Telugu             2023       1         0      0   \n",
       "\n",
       "     Biography  Drama  History  Romance  ...  Crime  Adventure  Horror  Sport  \\\n",
       "0            0      1        0        0  ...      0          0       0      0   \n",
       "1            0      1        0        0  ...      0          0       0      0   \n",
       "2            0      0        0        0  ...      0          1       0      0   \n",
       "3            0      0        0        0  ...      0          0       0      0   \n",
       "4            0      1        0        0  ...      0          0       0      0   \n",
       "..         ...    ...      ...      ...  ...    ...        ...     ...    ...   \n",
       "388          0      1        0        0  ...      0          0       0      0   \n",
       "389          0      1        0        0  ...      0          0       0      0   \n",
       "390          0      1        0        0  ...      1          0       0      0   \n",
       "391          0      1        0        0  ...      0          0       0      0   \n",
       "392          0      1        0        0  ...      0          0       0      0   \n",
       "\n",
       "     Fantacy  War  Ratings   Votes  Worldwide Gross in Crores  Hit or Flop  \n",
       "0          0    0      8.2  105531                     1749.0            1  \n",
       "1          0    0      7.8   27522                      830.8            1  \n",
       "2          0    0      5.9   30693                      562.5            1  \n",
       "3          0    0      4.9    9917                      310.3            1  \n",
       "4          0    0      7.8   30211                      304.0            1  \n",
       "..       ...  ...      ...     ...                        ...          ...  \n",
       "388        0    0      5.3   27155                       51.5            0  \n",
       "389        0    0      7.4   10092                       45.0            1  \n",
       "390        0    0      7.7   13421                       41.9            0  \n",
       "391        0    0      8.3    1627                       25.5            1  \n",
       "392        0    0      7.0     876                       21.5            1  \n",
       "\n",
       "[393 rows x 21 columns]"
      ]
     },
     "execution_count": 103,
     "metadata": {},
     "output_type": "execute_result"
    }
   ],
   "source": [
    "data"
   ]
  },
  {
   "cell_type": "code",
   "execution_count": 104,
   "id": "a5ad47e4",
   "metadata": {},
   "outputs": [],
   "source": [
    "all_directors = {}\n",
    "dircnt = 0"
   ]
  },
  {
   "cell_type": "code",
   "execution_count": 105,
   "id": "750e8d99",
   "metadata": {},
   "outputs": [],
   "source": [
    "for i in range(len(data)):\n",
    "    if data.loc[i]['Directors'] not in all_directors:\n",
    "        all_directors[data.loc[i]['Directors']] = dircnt\n",
    "        dircnt += 1"
   ]
  },
  {
   "cell_type": "code",
   "execution_count": 106,
   "id": "798b2ebd",
   "metadata": {},
   "outputs": [
    {
     "data": {
      "text/plain": [
       "{'S.S. Rajamouli': 0,\n",
       " 'Advait Chandan': 1,\n",
       " 'Ali Abbas Zafar': 2,\n",
       " 'Rohit Shetty': 3,\n",
       " 'Saket Chaudhary': 4,\n",
       " 'Shree Narayan Singh': 5,\n",
       " 'Rahul Dholakia': 6,\n",
       " 'Atlee': 7,\n",
       " 'Kabir Khan': 8,\n",
       " 'David Dhawan': 9,\n",
       " 'Shashank Khaitan': 10,\n",
       " 'Subhash Kapoor': 11,\n",
       " 'V.V. Vinayak': 12,\n",
       " 'Ravi Udyawar': 13,\n",
       " 'Sanjay Gupta': 14,\n",
       " 'Imtiaz Ali': 15,\n",
       " 'K.S. Ravindra': 16,\n",
       " 'Siva': 17,\n",
       " 'A.R. Murugadoss': 18,\n",
       " 'Harish Shankar': 19,\n",
       " 'Hari': 20,\n",
       " 'Bharathan': 21,\n",
       " 'Mohit Suri': 22,\n",
       " 'Mrighdeep Lamba': 23,\n",
       " 'Milan Luthria': 24,\n",
       " 'Kishore Kumar Pardasani': 25,\n",
       " 'Anees Bazmee': 26,\n",
       " 'Anurag Basu': 27,\n",
       " 'Sekhar Kammula': 28,\n",
       " 'James Erskine': 29,\n",
       " 'Mohan Raja': 30,\n",
       " 'Radha Krishna Jagarlamudi': 31,\n",
       " 'Venu Sriram': 32,\n",
       " 'Santhosh Ananddram': 33,\n",
       " 'R.S. Prasanna': 34,\n",
       " 'Sankalp Reddy': 35,\n",
       " 'Gayatri': 36,\n",
       " 'Trinadha Rao Nakkina': 37,\n",
       " 'Shiva Nirvana': 38,\n",
       " 'H. Vinoth': 39,\n",
       " 'Anil Ravipudi': 40,\n",
       " 'Satish Vegesna': 41,\n",
       " 'Ashwiny Iyer Tiwari': 42,\n",
       " 'Soundarya Rajinikanth Vishagan': 43,\n",
       " 'Shivam Nair': 44,\n",
       " 'Anshai Lal': 45,\n",
       " 'Sandeep Reddy Vanga': 46,\n",
       " 'Sabir Khan': 47,\n",
       " 'Kalyan Krishna': 48,\n",
       " 'Teja': 49,\n",
       " 'Suresh Triveni': 50,\n",
       " 'Jibu Jacob': 51,\n",
       " 'Harsha': 52,\n",
       " 'S Krishna': 53,\n",
       " 'Maruthi Dasari': 54,\n",
       " 'Gagan Bhullar': 55,\n",
       " 'Haneef Adeni': 56,\n",
       " 'P. Vasu': 57,\n",
       " 'Jay.k': 58,\n",
       " 'Mani Ratnam': 59,\n",
       " 'Arun Gopy': 60,\n",
       " 'Milind Rau': 61,\n",
       " 'Omkar': 62,\n",
       " 'Boyapati Srinu': 63,\n",
       " 'Sathyan Anthikad': 64,\n",
       " 'Puri Jagannadh': 65,\n",
       " 'Midhun Manuel Thomas': 66,\n",
       " 'Mysskin': 67,\n",
       " 'Vikram K. Kumar': 68,\n",
       " 'Thirumala Kishore': 69,\n",
       " 'Sampath Nandi': 70,\n",
       " 'K.V. Anand': 71,\n",
       " 'Chinthan': 72,\n",
       " 'Sai Ramani': 73,\n",
       " 'Amal Neerad': 74,\n",
       " 'Mahesh Narayanan': 75,\n",
       " 'Gopichand Malineni': 76,\n",
       " 'Lakshman': 77,\n",
       " 'Althaf Salim': 78,\n",
       " 'Lal Jose': 79,\n",
       " 'Prakash': 80,\n",
       " 'Soubin Shahir': 81,\n",
       " 'Narthan': 82,\n",
       " 'K. Raghavendra Rao': 83,\n",
       " 'B. Unnikrishnan': 84,\n",
       " 'Hiphop Tamizha Adhi': 85,\n",
       " 'Dileesh Pothan': 86,\n",
       " 'Ajai Vasudev': 87,\n",
       " 'Jinu Abraham': 88,\n",
       " 'Suni': 89,\n",
       " 'Lijo Jose Pellissery': 90,\n",
       " 'Sudheer Varma': 91,\n",
       " 'Chethan Kumar': 92,\n",
       " 'Sidhartha Siva': 93,\n",
       " 'Tom Emmatty': 94,\n",
       " 'Basil Joseph': 95,\n",
       " 'S. Shankar': 96,\n",
       " 'Rajkumar Hirani': 97,\n",
       " 'Sanjay Leela Bhansali': 98,\n",
       " 'Sriram Raghavan': 99,\n",
       " 'Vijay Krishna Acharya': 100,\n",
       " \"Remo D'Souza\": 101,\n",
       " 'Ahmed Khan': 102,\n",
       " 'Prashanth Neel': 103,\n",
       " 'Amit Ravindernath Sharma': 104,\n",
       " 'Malhotra P. Siddharth': 105,\n",
       " 'Sukumar': 106,\n",
       " 'Meghna Gulzar': 107,\n",
       " 'Aanand L. Rai': 108,\n",
       " 'R. Balki': 109,\n",
       " 'Amar Kaushik': 110,\n",
       " 'Koratala Siva': 111,\n",
       " 'Pa. Ranjith': 112,\n",
       " 'Reema Kagti': 113,\n",
       " 'Trivikram Srinivas': 114,\n",
       " 'Raj Kumar Gupta': 115,\n",
       " 'Luv Ranjan': 116,\n",
       " 'Shashanka Ghosh': 117,\n",
       " 'Parasuram': 118,\n",
       " 'Sharat Katariya': 119,\n",
       " 'Umesh Shukla': 120,\n",
       " 'Milap Zaveri': 121,\n",
       " 'Vignesh Shivan': 122,\n",
       " 'Abhishek Kapoor': 123,\n",
       " 'Vakkantham Vamsi': 124,\n",
       " 'Abhishek Sharma': 125,\n",
       " 'Nag Ashwin': 126,\n",
       " 'Pandiraj': 127,\n",
       " 'Rosshan Andrrews': 128,\n",
       " 'Ashok G.': 129,\n",
       " 'P.S. Mithran': 130,\n",
       " 'Vetrimaaran': 131,\n",
       " 'Ponram': 132,\n",
       " 'Smeep Kang': 133,\n",
       " 'C. Prem Kumar': 134,\n",
       " 'Shoojit Sircar': 135,\n",
       " 'V.A. Shrikumar Menon': 136,\n",
       " 'Prem': 137,\n",
       " 'Kamal Haasan': 138,\n",
       " 'N. Linguswamy': 139,\n",
       " 'C.S. Amudhan': 140,\n",
       " 'K.S. Ravikumar': 141,\n",
       " 'Balaji Mohan': 142,\n",
       " 'Sriram Adittya': 143,\n",
       " 'Nelson Dilipkumar': 144,\n",
       " 'Venky Atluri': 145,\n",
       " 'Shaji Padoor': 146,\n",
       " 'R. Ajay Gnanamuthu': 147,\n",
       " 'Shakti Soundar Rajan': 148,\n",
       " 'Soori': 149,\n",
       " 'Vijay Chandar': 150,\n",
       " 'Rahul Sankrityan': 151,\n",
       " 'Ram Kumar': 152,\n",
       " 'Jeethu Joseph': 153,\n",
       " 'Merlapaka Gandhi': 154,\n",
       " 'Fellini T.P.': 155,\n",
       " 'Ajay Bhupathi': 156,\n",
       " 'Sundar C.': 157,\n",
       " 'Zakariya Mohammed': 158,\n",
       " 'Anand Shankar': 159,\n",
       " 'Sashi Kiran Tikka': 160,\n",
       " 'Anjali Menon': 161,\n",
       " 'Venky Kudumula': 162,\n",
       " 'Pawan Kumar': 163,\n",
       " 'Sriwass': 164,\n",
       " 'Vikram Sirikonda': 165,\n",
       " 'Siddharth Anand': 166,\n",
       " 'Sujeeth': 167,\n",
       " 'Aditya Dhar': 168,\n",
       " 'Raj Mehta': 169,\n",
       " 'Farhad Samji': 170,\n",
       " 'Jagan Shakti': 171,\n",
       " 'Surender Reddy': 172,\n",
       " 'Zoya Akhtar': 173,\n",
       " 'Indra Kumar': 174,\n",
       " 'Prabhu Deva': 175,\n",
       " 'Karthik Subbaraj': 176,\n",
       " 'Vikas Bahl': 177,\n",
       " 'Nitesh Tiwari': 178,\n",
       " 'Anurag Singh': 179,\n",
       " 'Raaj Shaandilyaa': 180,\n",
       " 'Vamshi Paidipally': 181,\n",
       " 'Abhishek Varman': 182,\n",
       " 'Sujoy Ghosh': 183,\n",
       " 'Akiv Ali': 184,\n",
       " 'Raghava Lawrence': 185,\n",
       " 'Prithviraj Sukumaran': 186,\n",
       " 'Laxman Utekar': 187,\n",
       " 'Nikkhil Advani': 188,\n",
       " 'Mudassar Aziz': 189,\n",
       " 'Lokesh Kanagaraj': 190,\n",
       " 'Punit Malhotra': 191,\n",
       " 'Naganna': 192,\n",
       " 'Anubhav Sinha': 193,\n",
       " 'Gopi Puthran': 194,\n",
       " 'K. Selvaraghavan': 195,\n",
       " 'Sachin Ravi': 196,\n",
       " 'Pradeep Ranganathan': 197,\n",
       " 'Jagdeep Sidhu': 198,\n",
       " 'V. Harikrishna': 199,\n",
       " 'Gowtam Tinnanuri': 200,\n",
       " 'Vysakh': 201,\n",
       " 'Pawan Wadeyar': 202,\n",
       " 'Bharat Kamma': 203,\n",
       " 'Madhu C. Narayanan': 204,\n",
       " 'Thiagarajan Kumararaja': 205,\n",
       " 'Girish A.D.': 206,\n",
       " 'M. Padmakumar': 207,\n",
       " 'Rajesh M. Selva': 208,\n",
       " 'B.V. Nandini Reddy': 209,\n",
       " 'Dhyan Sreenivasan': 210,\n",
       " 'Jibi Joju': 211,\n",
       " 'M. Rajesh': 212,\n",
       " 'Jean Paul Lal': 213,\n",
       " 'M.D. Sridhar': 214,\n",
       " 'B.C. Noufal': 215,\n",
       " 'Ramesh Varma': 216,\n",
       " 'Magizh Thirumeni': 217,\n",
       " 'Rambhala': 218,\n",
       " 'Khalid Rahman': 219,\n",
       " 'Aashiq Abu': 220,\n",
       " 'Prabhu': 221,\n",
       " 'K.V. Guhan': 222,\n",
       " 'Manu Ashokan': 223,\n",
       " 'Om Raut': 224,\n",
       " 'Hitesh Kewalya': 225,\n",
       " 'Janjot Singh': 226,\n",
       " 'R.S. Durai Senthilkumar': 227,\n",
       " 'Sachy': 228,\n",
       " 'Anoop Sathyan': 229,\n",
       " 'Buchi Babu Sana': 230,\n",
       " 'Venkat Prabhu': 231,\n",
       " 'Srinath Rajendran': 232,\n",
       " 'Anudeep K.V.': 233,\n",
       " 'Mari Selvaraj': 234,\n",
       " 'Mahesh Manjrekar': 235,\n",
       " 'Amarjit Singh Saron': 236,\n",
       " 'Tarun Sudhir': 237,\n",
       " 'Ranjit Tewari': 238,\n",
       " 'Priyadarshan': 239,\n",
       " 'Nandakishore': 240,\n",
       " 'Bommarillu Baskar': 241,\n",
       " 'Shiva Karthik': 242,\n",
       " 'Bakkiyaraj Kannan': 243,\n",
       " 'Jofin T. Chacko': 244,\n",
       " 'Duniya Vijay': 245,\n",
       " 'Ayan Mukerji': 246,\n",
       " 'Rishab Shetty': 247,\n",
       " 'Vivek Agnihotri': 248,\n",
       " 'Abhishek Pathak': 249,\n",
       " 'Saagar K Chandra': 250,\n",
       " 'K.K. Radhakrishna Kumar': 251,\n",
       " 'Cibi Chakravarthi': 252,\n",
       " 'Chandoo Mondeti': 253,\n",
       " 'Mithran Jawahar': 254,\n",
       " 'Kiranraj K': 255,\n",
       " 'Hanu Raghavapudi': 256,\n",
       " 'Chandra Prakash Dwivedi': 257,\n",
       " 'Anup Bhandari': 258,\n",
       " 'Karan Malhotra': 259,\n",
       " 'M. Muthaiah': 260,\n",
       " 'Mallidi Vasishta': 261,\n",
       " 'Gautham Vasudev Menon': 262,\n",
       " 'Vineeth Sreenivasan': 263,\n",
       " 'Vishnu Sasi Shankar': 264,\n",
       " 'Madhavan': 265,\n",
       " 'Dijo Jose Antony': 266,\n",
       " 'Shaji Kailas': 267,\n",
       " 'Sailesh Kolanu': 268,\n",
       " 'Vipin Das': 269,\n",
       " 'Vivek Athreya': 270,\n",
       " 'Nissam Basheer': 271,\n",
       " 'Yograj Bhat': 272,\n",
       " 'K. Madhu': 273,\n",
       " 'Vimal Krishna': 274,\n",
       " 'Haresh Narayan': 275,\n",
       " 'Darling Krishna': 276,\n",
       " 'Jithu Madhavan': 277,\n",
       " 'Rohit Dhawan': 278,\n",
       " 'R. Chandru': 279,\n",
       " 'Venu Yeldandi': 280,\n",
       " 'Vishwak Sen': 281}"
      ]
     },
     "execution_count": 106,
     "metadata": {},
     "output_type": "execute_result"
    }
   ],
   "source": [
    "all_directors"
   ]
  },
  {
   "cell_type": "code",
   "execution_count": 107,
   "id": "23776dad",
   "metadata": {},
   "outputs": [],
   "source": [
    "all_languages = {}\n",
    "langcnt = 0"
   ]
  },
  {
   "cell_type": "code",
   "execution_count": 108,
   "id": "3eb94ede",
   "metadata": {},
   "outputs": [],
   "source": [
    "for i in range(len(data)):\n",
    "    if data.loc[i]['Language'] not in all_languages:\n",
    "        all_languages[data.loc[i]['Language']] = langcnt\n",
    "        langcnt += 1"
   ]
  },
  {
   "cell_type": "code",
   "execution_count": 109,
   "id": "11c5af16",
   "metadata": {},
   "outputs": [
    {
     "data": {
      "text/plain": [
       "{'Telugu': 0,\n",
       " 'Hindi': 1,\n",
       " 'Tamil': 2,\n",
       " 'Kannada': 3,\n",
       " 'Malayalam': 4,\n",
       " 'Punjabi': 5}"
      ]
     },
     "execution_count": 109,
     "metadata": {},
     "output_type": "execute_result"
    }
   ],
   "source": [
    "all_languages"
   ]
  },
  {
   "cell_type": "code",
   "execution_count": 2,
   "id": "be1a8343",
   "metadata": {},
   "outputs": [
    {
     "ename": "NameError",
     "evalue": "name 'all_directors' is not defined",
     "output_type": "error",
     "traceback": [
      "\u001b[1;31m---------------------------------------------------------------------------\u001b[0m",
      "\u001b[1;31mNameError\u001b[0m                                 Traceback (most recent call last)",
      "Cell \u001b[1;32mIn[2], line 1\u001b[0m\n\u001b[1;32m----> 1\u001b[0m encoded_directors \u001b[38;5;241m=\u001b[39m {w:k \u001b[38;5;28;01mfor\u001b[39;00m k,w \u001b[38;5;129;01min\u001b[39;00m \u001b[43mall_directors\u001b[49m\u001b[38;5;241m.\u001b[39mitems()}\n\u001b[0;32m      2\u001b[0m encoded_languages \u001b[38;5;241m=\u001b[39m {w:k \u001b[38;5;28;01mfor\u001b[39;00m k,w \u001b[38;5;129;01min\u001b[39;00m all_languages\u001b[38;5;241m.\u001b[39mitems()}\n",
      "\u001b[1;31mNameError\u001b[0m: name 'all_directors' is not defined"
     ]
    }
   ],
   "source": [
    "encoded_directors = {w:k for k,w in all_directors.items()}\n",
    "encoded_languages = {w:k for k,w in all_languages.items()}"
   ]
  },
  {
   "cell_type": "code",
   "execution_count": 111,
   "id": "f4ebfcc3",
   "metadata": {},
   "outputs": [],
   "source": [
    "X = data.drop(['Hit or Flop'], axis=1)\n",
    "y = data['Hit or Flop']"
   ]
  },
  {
   "cell_type": "code",
   "execution_count": 112,
   "id": "f4e4fee2",
   "metadata": {},
   "outputs": [],
   "source": [
    "X = np.array(X)\n",
    "y = np.array(y)"
   ]
  },
  {
   "cell_type": "code",
   "execution_count": 113,
   "id": "7b8d9a72",
   "metadata": {},
   "outputs": [],
   "source": [
    "for i in range(len(X)):\n",
    "    X[i][0] = all_directors[X[i][0]]\n",
    "    X[i][1] = all_languages[X[i][1]]"
   ]
  },
  {
   "cell_type": "code",
   "execution_count": 114,
   "id": "3e68af67",
   "metadata": {},
   "outputs": [],
   "source": [
    "X = np.array(X, dtype='int32')\n",
    "y = np.array(y, dtype='int32')"
   ]
  },
  {
   "cell_type": "code",
   "execution_count": 115,
   "id": "76beca1b",
   "metadata": {},
   "outputs": [],
   "source": [
    "y = y.ravel()"
   ]
  },
  {
   "cell_type": "code",
   "execution_count": 116,
   "id": "edbb065d",
   "metadata": {},
   "outputs": [
    {
     "name": "stdout",
     "output_type": "stream",
     "text": [
      "(array([0, 1]), array([142, 251], dtype=int64))\n"
     ]
    }
   ],
   "source": [
    "print(np.unique(y, return_counts=True))"
   ]
  },
  {
   "cell_type": "code",
   "execution_count": 117,
   "id": "5bfe4e47",
   "metadata": {},
   "outputs": [],
   "source": [
    "from sklearn.model_selection import train_test_split"
   ]
  },
  {
   "cell_type": "code",
   "execution_count": 118,
   "id": "69be12bf",
   "metadata": {},
   "outputs": [],
   "source": [
    "X_train, X_test, y_train, y_test = train_test_split(X, y, test_size=0.1)"
   ]
  },
  {
   "cell_type": "code",
   "execution_count": 119,
   "id": "4e4ab4e2",
   "metadata": {},
   "outputs": [
    {
     "data": {
      "text/plain": [
       "0.675"
      ]
     },
     "execution_count": 119,
     "metadata": {},
     "output_type": "execute_result"
    }
   ],
   "source": [
    "from sklearn.svm import SVC\n",
    "model1 = SVC().fit(X_train, y_train)\n",
    "model1.score(X_test, y_test)"
   ]
  },
  {
   "cell_type": "code",
   "execution_count": 120,
   "id": "1c86d2c3",
   "metadata": {},
   "outputs": [
    {
     "data": {
      "text/plain": [
       "0.75"
      ]
     },
     "execution_count": 120,
     "metadata": {},
     "output_type": "execute_result"
    }
   ],
   "source": [
    "from sklearn.tree import DecisionTreeClassifier\n",
    "model2 = DecisionTreeClassifier().fit(X_train, y_train)\n",
    "model2.score(X_test, y_test)"
   ]
  },
  {
   "cell_type": "code",
   "execution_count": 121,
   "id": "d9eb8cf4",
   "metadata": {},
   "outputs": [
    {
     "data": {
      "text/plain": [
       "0.75"
      ]
     },
     "execution_count": 121,
     "metadata": {},
     "output_type": "execute_result"
    }
   ],
   "source": [
    "from sklearn.ensemble import RandomForestClassifier\n",
    "model3 = RandomForestClassifier(n_estimators=200).fit(X_train, y_train)\n",
    "model3.score(X_test, y_test)"
   ]
  },
  {
   "cell_type": "code",
   "execution_count": 122,
   "id": "1201de71",
   "metadata": {},
   "outputs": [
    {
     "name": "stdout",
     "output_type": "stream",
     "text": [
      "[    5     1  2017     0     0     0     0     1     0     1     1     0\n",
      "     0     0     0     0     0     7 22202   290]\n"
     ]
    }
   ],
   "source": [
    "print(X[5])"
   ]
  },
  {
   "cell_type": "code",
   "execution_count": 123,
   "id": "6cb17b9d",
   "metadata": {},
   "outputs": [],
   "source": [
    "test = np.array(X[5]).reshape(1, -1)"
   ]
  },
  {
   "cell_type": "code",
   "execution_count": 124,
   "id": "b86e670d",
   "metadata": {},
   "outputs": [
    {
     "data": {
      "text/plain": [
       "array([1])"
      ]
     },
     "execution_count": 124,
     "metadata": {},
     "output_type": "execute_result"
    }
   ],
   "source": [
    "model1.predict(test)"
   ]
  },
  {
   "cell_type": "code",
   "execution_count": 125,
   "id": "41fa1ca0",
   "metadata": {},
   "outputs": [
    {
     "data": {
      "text/plain": [
       "array([1])"
      ]
     },
     "execution_count": 125,
     "metadata": {},
     "output_type": "execute_result"
    }
   ],
   "source": [
    "model2.predict(test)"
   ]
  },
  {
   "cell_type": "code",
   "execution_count": 126,
   "id": "7c56d8cb",
   "metadata": {},
   "outputs": [
    {
     "data": {
      "text/plain": [
       "array([1])"
      ]
     },
     "execution_count": 126,
     "metadata": {},
     "output_type": "execute_result"
    }
   ],
   "source": [
    "model3.predict(test)"
   ]
  },
  {
   "cell_type": "code",
   "execution_count": 127,
   "id": "57c037e8",
   "metadata": {},
   "outputs": [],
   "source": [
    "import pickle as pkl"
   ]
  },
  {
   "cell_type": "code",
   "execution_count": 128,
   "id": "3bc02e34",
   "metadata": {},
   "outputs": [],
   "source": [
    "with open('model.pkl', 'wb') as f:\n",
    "    pkl.dump(model3, f)"
   ]
  },
  {
   "cell_type": "code",
   "execution_count": 129,
   "id": "2c68741c",
   "metadata": {},
   "outputs": [],
   "source": [
    "with open('directors.pkl', 'wb') as f:\n",
    "    pkl.dump(all_directors, f)\n",
    "    \n",
    "with open('languages.pkl', 'wb') as f:\n",
    "    pkl.dump(all_directors, f)"
   ]
  },
  {
   "cell_type": "code",
   "execution_count": 1,
   "id": "6a34092b",
   "metadata": {},
   "outputs": [
    {
     "ename": "NameError",
     "evalue": "name 'encoded_directors' is not defined",
     "output_type": "error",
     "traceback": [
      "\u001b[1;31m---------------------------------------------------------------------------\u001b[0m",
      "\u001b[1;31mNameError\u001b[0m                                 Traceback (most recent call last)",
      "Cell \u001b[1;32mIn[1], line 1\u001b[0m\n\u001b[1;32m----> 1\u001b[0m \u001b[43mencoded_directors\u001b[49m\n",
      "\u001b[1;31mNameError\u001b[0m: name 'encoded_directors' is not defined"
     ]
    }
   ],
   "source": [
    "encoded_directors"
   ]
  }
 ],
 "metadata": {
  "kernelspec": {
   "display_name": "Python 3 (ipykernel)",
   "language": "python",
   "name": "python3"
  },
  "language_info": {
   "codemirror_mode": {
    "name": "ipython",
    "version": 3
   },
   "file_extension": ".py",
   "mimetype": "text/x-python",
   "name": "python",
   "nbconvert_exporter": "python",
   "pygments_lexer": "ipython3",
   "version": "3.11.2"
  }
 },
 "nbformat": 4,
 "nbformat_minor": 5
}
